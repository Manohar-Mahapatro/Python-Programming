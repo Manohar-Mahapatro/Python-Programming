{
 "cells": [
  {
   "cell_type": "code",
   "execution_count": 1,
   "metadata": {},
   "outputs": [],
   "source": [
    "import numpy as np"
   ]
  },
  {
   "cell_type": "code",
   "execution_count": 4,
   "metadata": {},
   "outputs": [],
   "source": [
    "m1 = np.array([[5,2,7],[4,8,6],[8,12,15]])"
   ]
  },
  {
   "cell_type": "code",
   "execution_count": 5,
   "metadata": {},
   "outputs": [
    {
     "data": {
      "text/plain": [
       "array([[ 5,  2,  7],\n",
       "       [ 4,  8,  6],\n",
       "       [ 8, 12, 15]])"
      ]
     },
     "execution_count": 5,
     "metadata": {},
     "output_type": "execute_result"
    }
   ],
   "source": [
    "m1"
   ]
  },
  {
   "cell_type": "code",
   "execution_count": 6,
   "metadata": {},
   "outputs": [],
   "source": [
    "m2 = np.array([[14,17,8],[10,5,4],[18,0,16]])"
   ]
  },
  {
   "cell_type": "code",
   "execution_count": 7,
   "metadata": {},
   "outputs": [
    {
     "data": {
      "text/plain": [
       "array([[14, 17,  8],\n",
       "       [10,  5,  4],\n",
       "       [18,  0, 16]])"
      ]
     },
     "execution_count": 7,
     "metadata": {},
     "output_type": "execute_result"
    }
   ],
   "source": [
    "m2"
   ]
  },
  {
   "cell_type": "code",
   "execution_count": 8,
   "metadata": {},
   "outputs": [],
   "source": [
    "m3 = np.array([[14,17,8,4],[10,5,4,4]])"
   ]
  },
  {
   "cell_type": "code",
   "execution_count": 9,
   "metadata": {},
   "outputs": [
    {
     "data": {
      "text/plain": [
       "array([[14, 17,  8,  4],\n",
       "       [10,  5,  4,  4]])"
      ]
     },
     "execution_count": 9,
     "metadata": {},
     "output_type": "execute_result"
    }
   ],
   "source": [
    "m3"
   ]
  },
  {
   "cell_type": "markdown",
   "metadata": {},
   "source": [
    "### 1.\tWrite a Python Program to Add Two Matrices? "
   ]
  },
  {
   "cell_type": "code",
   "execution_count": 15,
   "metadata": {},
   "outputs": [],
   "source": [
    "def sum_of_two_matrices(m1,m2):\n",
    "    try:\n",
    "        print(f'sum of the two matrices is \\n {m1+m2}')\n",
    "        \n",
    "    except Exception as e:\n",
    "        print('Error : ',e)"
   ]
  },
  {
   "cell_type": "code",
   "execution_count": 16,
   "metadata": {},
   "outputs": [],
   "source": [
    "m1 = np.array([[5,2,7],[4,8,6],[8,12,15]])\n",
    "m2 = np.array([[14,17,8],[10,5,4],[18,0,16]])"
   ]
  },
  {
   "cell_type": "code",
   "execution_count": 17,
   "metadata": {},
   "outputs": [
    {
     "name": "stdout",
     "output_type": "stream",
     "text": [
      "sum of the two matrices is \n",
      " [[19 19 15]\n",
      " [14 13 10]\n",
      " [26 12 31]]\n"
     ]
    }
   ],
   "source": [
    "sum_of_two_matrices(m1,m2)"
   ]
  },
  {
   "cell_type": "code",
   "execution_count": 18,
   "metadata": {},
   "outputs": [],
   "source": [
    "m3 = np.array([[14,17,8,4],[10,5,4,4]])"
   ]
  },
  {
   "cell_type": "code",
   "execution_count": 19,
   "metadata": {},
   "outputs": [
    {
     "name": "stdout",
     "output_type": "stream",
     "text": [
      "Error :  operands could not be broadcast together with shapes (3,3) (2,4) \n"
     ]
    }
   ],
   "source": [
    "sum_of_two_matrices(m1,m3)"
   ]
  },
  {
   "cell_type": "markdown",
   "metadata": {},
   "source": [
    "### 2.\tWrite a Python Program to Multiply Two Matrices?"
   ]
  },
  {
   "cell_type": "code",
   "execution_count": 20,
   "metadata": {},
   "outputs": [],
   "source": [
    "def product_of_two_matrices(m1,m2):\n",
    "    try:\n",
    "        print(f'product of the two matrices is \\n {m1@m2}')\n",
    "        \n",
    "    except Exception as e:\n",
    "        print('Error : ',e)"
   ]
  },
  {
   "cell_type": "code",
   "execution_count": 21,
   "metadata": {},
   "outputs": [],
   "source": [
    "m1 = np.array([[5,2,7],[4,8,6],[8,12,15]])\n",
    "m2 = np.array([[14,17,8],[10,5,4],[18,0,16]])"
   ]
  },
  {
   "cell_type": "code",
   "execution_count": 22,
   "metadata": {},
   "outputs": [
    {
     "name": "stdout",
     "output_type": "stream",
     "text": [
      "product of the two matrices is \n",
      " [[216  95 160]\n",
      " [244 108 160]\n",
      " [502 196 352]]\n"
     ]
    }
   ],
   "source": [
    " product_of_two_matrices(m1,m2)"
   ]
  },
  {
   "cell_type": "code",
   "execution_count": 23,
   "metadata": {},
   "outputs": [],
   "source": [
    "m3 = np.array([[14,17,8,4],[10,5,4,4]])"
   ]
  },
  {
   "cell_type": "code",
   "execution_count": 24,
   "metadata": {},
   "outputs": [
    {
     "name": "stdout",
     "output_type": "stream",
     "text": [
      "Error :  matmul: Input operand 1 has a mismatch in its core dimension 0, with gufunc signature (n?,k),(k,m?)->(n?,m?) (size 2 is different from 3)\n"
     ]
    }
   ],
   "source": [
    " product_of_two_matrices(m1,m3)"
   ]
  },
  {
   "cell_type": "markdown",
   "metadata": {},
   "source": [
    "### 3.\tWrite a Python Program to Transpose a Matrix? "
   ]
  },
  {
   "cell_type": "code",
   "execution_count": 41,
   "metadata": {},
   "outputs": [],
   "source": [
    "def transpose_of(m1):\n",
    "    a = np.zeros((len(m1),len(m1[0])))\n",
    "    for i in range(len(m1)):\n",
    "        for j in range(len(m1[0])):\n",
    "            a[i][j] = m1[i][j]\n",
    "    return a"
   ]
  },
  {
   "cell_type": "code",
   "execution_count": 42,
   "metadata": {},
   "outputs": [],
   "source": [
    "m1 = np.array([[5,2,7],[4,8,6],[8,12,15]])"
   ]
  },
  {
   "cell_type": "code",
   "execution_count": 43,
   "metadata": {},
   "outputs": [
    {
     "data": {
      "text/plain": [
       "array([[ 5,  2,  7],\n",
       "       [ 4,  8,  6],\n",
       "       [ 8, 12, 15]])"
      ]
     },
     "execution_count": 43,
     "metadata": {},
     "output_type": "execute_result"
    }
   ],
   "source": [
    "m1"
   ]
  },
  {
   "cell_type": "code",
   "execution_count": 44,
   "metadata": {},
   "outputs": [
    {
     "data": {
      "text/plain": [
       "array([[ 5.,  2.,  7.],\n",
       "       [ 4.,  8.,  6.],\n",
       "       [ 8., 12., 15.]])"
      ]
     },
     "execution_count": 44,
     "metadata": {},
     "output_type": "execute_result"
    }
   ],
   "source": [
    "transpose_of(m1)"
   ]
  },
  {
   "cell_type": "code",
   "execution_count": 45,
   "metadata": {},
   "outputs": [],
   "source": [
    "def transpose_of(m1):\n",
    "    return np.transpose(m1)"
   ]
  },
  {
   "cell_type": "code",
   "execution_count": 46,
   "metadata": {},
   "outputs": [
    {
     "data": {
      "text/plain": [
       "array([[ 5,  4,  8],\n",
       "       [ 2,  8, 12],\n",
       "       [ 7,  6, 15]])"
      ]
     },
     "execution_count": 46,
     "metadata": {},
     "output_type": "execute_result"
    }
   ],
   "source": [
    "transpose_of(m1)"
   ]
  },
  {
   "cell_type": "markdown",
   "metadata": {},
   "source": [
    "### 4.\tWrite a Python Program to Sort Words in Alphabetic Order? "
   ]
  },
  {
   "cell_type": "code",
   "execution_count": 50,
   "metadata": {},
   "outputs": [],
   "source": [
    "def words_in_alphabetic_order(sentence):\n",
    "    words = sentence.split(\" \")\n",
    "    return(sorted(words))"
   ]
  },
  {
   "cell_type": "code",
   "execution_count": 51,
   "metadata": {},
   "outputs": [],
   "source": [
    "sentence = 'Write a Python Program to Sort Words in Alphabetic Order?'"
   ]
  },
  {
   "cell_type": "code",
   "execution_count": 52,
   "metadata": {},
   "outputs": [
    {
     "data": {
      "text/plain": [
       "['Alphabetic',\n",
       " 'Order?',\n",
       " 'Program',\n",
       " 'Python',\n",
       " 'Sort',\n",
       " 'Words',\n",
       " 'Write',\n",
       " 'a',\n",
       " 'in',\n",
       " 'to']"
      ]
     },
     "execution_count": 52,
     "metadata": {},
     "output_type": "execute_result"
    }
   ],
   "source": [
    "words_in_alphabetic_order(sentence)"
   ]
  },
  {
   "cell_type": "code",
   "execution_count": 53,
   "metadata": {},
   "outputs": [],
   "source": [
    "# without case sensitivity\n",
    "def words_in_alphabetic_order(sentence):\n",
    "    words = sentence.lower().split(\" \")\n",
    "    return(sorted(words))"
   ]
  },
  {
   "cell_type": "code",
   "execution_count": 54,
   "metadata": {},
   "outputs": [
    {
     "data": {
      "text/plain": [
       "['a',\n",
       " 'alphabetic',\n",
       " 'in',\n",
       " 'order?',\n",
       " 'program',\n",
       " 'python',\n",
       " 'sort',\n",
       " 'to',\n",
       " 'words',\n",
       " 'write']"
      ]
     },
     "execution_count": 54,
     "metadata": {},
     "output_type": "execute_result"
    }
   ],
   "source": [
    "words_in_alphabetic_order(sentence)"
   ]
  },
  {
   "cell_type": "markdown",
   "metadata": {},
   "source": [
    "### 5.\tWrite a Python Program to Remove Punctuation From a String?"
   ]
  },
  {
   "cell_type": "code",
   "execution_count": 65,
   "metadata": {},
   "outputs": [],
   "source": [
    "import string\n",
    "def remove_punctuations_from_a_string(sentence):\n",
    "    punctuation_list = [i for i in string.punctuation]\n",
    "    result = \" \"\n",
    "    for i in sentence:\n",
    "        if i not in punctuation_list:\n",
    "            result = result+i\n",
    "    return result\n",
    "    "
   ]
  },
  {
   "cell_type": "code",
   "execution_count": 66,
   "metadata": {},
   "outputs": [],
   "source": [
    "sentence = 'Hello! how are you?'"
   ]
  },
  {
   "cell_type": "code",
   "execution_count": 67,
   "metadata": {},
   "outputs": [
    {
     "data": {
      "text/plain": [
       "' Hello how are you'"
      ]
     },
     "execution_count": 67,
     "metadata": {},
     "output_type": "execute_result"
    }
   ],
   "source": [
    "remove_punctuations_from_a_string(sentence)"
   ]
  },
  {
   "cell_type": "code",
   "execution_count": null,
   "metadata": {},
   "outputs": [],
   "source": []
  },
  {
   "cell_type": "code",
   "execution_count": null,
   "metadata": {},
   "outputs": [],
   "source": []
  }
 ],
 "metadata": {
  "kernelspec": {
   "display_name": "Python 3",
   "language": "python",
   "name": "python3"
  },
  "language_info": {
   "codemirror_mode": {
    "name": "ipython",
    "version": 3
   },
   "file_extension": ".py",
   "mimetype": "text/x-python",
   "name": "python",
   "nbconvert_exporter": "python",
   "pygments_lexer": "ipython3",
   "version": "3.8.5"
  }
 },
 "nbformat": 4,
 "nbformat_minor": 4
}
