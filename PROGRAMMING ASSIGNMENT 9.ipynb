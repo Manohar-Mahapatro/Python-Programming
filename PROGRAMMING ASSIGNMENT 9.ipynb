{
 "cells": [
  {
   "cell_type": "markdown",
   "metadata": {},
   "source": [
    "### 1.\tWrite a Python program to check if the given number is a Disarium Number? "
   ]
  },
  {
   "cell_type": "code",
   "execution_count": 7,
   "metadata": {},
   "outputs": [],
   "source": [
    "def disarium_or_not(num):\n",
    "    sum_of_num = 0\n",
    "    for i in range (len(str(num))):\n",
    "        b = int(str(num)[i])**(i+1)\n",
    "        sum_of_num = sum_of_num+b\n",
    "    if sum_of_num==num:\n",
    "        return \"Disarium Number\"\n",
    "    else:\n",
    "        return \"Not a Disarium Number\""
   ]
  },
  {
   "cell_type": "code",
   "execution_count": 8,
   "metadata": {},
   "outputs": [
    {
     "data": {
      "text/plain": [
       "'Disarium Number'"
      ]
     },
     "execution_count": 8,
     "metadata": {},
     "output_type": "execute_result"
    }
   ],
   "source": [
    "disarium_or_not(135)"
   ]
  },
  {
   "cell_type": "code",
   "execution_count": 9,
   "metadata": {},
   "outputs": [
    {
     "data": {
      "text/plain": [
       "'Not a Disarium Number'"
      ]
     },
     "execution_count": 9,
     "metadata": {},
     "output_type": "execute_result"
    }
   ],
   "source": [
    "disarium_or_not(123)"
   ]
  },
  {
   "cell_type": "markdown",
   "metadata": {},
   "source": [
    "### 2.\tWrite a Python program to print all disarium numbers between 1 to 100?"
   ]
  },
  {
   "cell_type": "code",
   "execution_count": 13,
   "metadata": {},
   "outputs": [],
   "source": [
    "def disarium_numbers(num):\n",
    "    \n",
    "    lst = []\n",
    "    for i in range(num):\n",
    "        sum_of_num = 0\n",
    "        for j in range (len(str(i))):\n",
    "            b = int(str(i)[j])**(j+1)\n",
    "            sum_of_num = sum_of_num+b\n",
    "        if sum_of_num==i:\n",
    "            lst.append(i)\n",
    "    return lst\n"
   ]
  },
  {
   "cell_type": "code",
   "execution_count": 14,
   "metadata": {},
   "outputs": [
    {
     "data": {
      "text/plain": [
       "[0, 1, 2, 3, 4, 5, 6, 7, 8, 9, 89]"
      ]
     },
     "execution_count": 14,
     "metadata": {},
     "output_type": "execute_result"
    }
   ],
   "source": [
    "disarium_numbers(100)"
   ]
  },
  {
   "cell_type": "markdown",
   "metadata": {},
   "source": [
    "### 3.\tWrite a Python program to check if the given number is Happy Number? "
   ]
  },
  {
   "cell_type": "code",
   "execution_count": 20,
   "metadata": {},
   "outputs": [],
   "source": [
    "def happy(num): \n",
    "    new_num = num\n",
    "    while new_num>=10:\n",
    "        sum_of_num = 0\n",
    "        while new_num>0:\n",
    "            rem = new_num%10\n",
    "            sum_of_num = sum_of_num + rem**2\n",
    "            new_num = new_num//10\n",
    "        new_num = sum_of_num\n",
    "    if  new_num == 1:\n",
    "        return \"Happy Number\"\n",
    "    else:\n",
    "        return \"Not a Happy Number\""
   ]
  },
  {
   "cell_type": "code",
   "execution_count": 21,
   "metadata": {},
   "outputs": [
    {
     "data": {
      "text/plain": [
       "'Happy Number'"
      ]
     },
     "execution_count": 21,
     "metadata": {},
     "output_type": "execute_result"
    }
   ],
   "source": [
    "happy(13)"
   ]
  },
  {
   "cell_type": "markdown",
   "metadata": {},
   "source": [
    "### 4.\tWrite a Python program to print all happy numbers between 1 and 100? "
   ]
  },
  {
   "cell_type": "code",
   "execution_count": 24,
   "metadata": {},
   "outputs": [],
   "source": [
    "def happy_numbers(number):\n",
    "    lst = []\n",
    "    for num in range(number):\n",
    "        new_num = num\n",
    "        while new_num>=10:\n",
    "            sum_of_num = 0\n",
    "            while new_num>0:\n",
    "                rem = new_num%10\n",
    "                sum_of_num = sum_of_num + rem**2\n",
    "                new_num = new_num//10\n",
    "            new_num = sum_of_num\n",
    "        if  new_num == 1:\n",
    "            lst.append(num) \n",
    "    return(lst)"
   ]
  },
  {
   "cell_type": "code",
   "execution_count": 25,
   "metadata": {},
   "outputs": [
    {
     "data": {
      "text/plain": [
       "[1, 10, 13, 19, 23, 28, 31, 32, 44, 49, 68, 70, 79, 82, 86, 91, 94, 97]"
      ]
     },
     "execution_count": 25,
     "metadata": {},
     "output_type": "execute_result"
    }
   ],
   "source": [
    "happy_numbers(100)"
   ]
  },
  {
   "cell_type": "markdown",
   "metadata": {},
   "source": [
    "### 5.\tWrite a Python program to determine whether the given number is a Harshad Number? "
   ]
  },
  {
   "cell_type": "code",
   "execution_count": 28,
   "metadata": {},
   "outputs": [],
   "source": [
    "def harshad_number_or_not(num):\n",
    "    sum_of_num = 0\n",
    "    new_num = num\n",
    "    while new_num>0:\n",
    "        rem = new_num%10\n",
    "        sum_of_num = sum_of_num+rem\n",
    "        new_num = new_num//10\n",
    "    if num%sum_of_num==0:\n",
    "        return \"Harshad Number\"\n",
    "    else:\n",
    "        return \"Not a Harshad Number\""
   ]
  },
  {
   "cell_type": "code",
   "execution_count": 29,
   "metadata": {},
   "outputs": [
    {
     "data": {
      "text/plain": [
       "'Harshad Number'"
      ]
     },
     "execution_count": 29,
     "metadata": {},
     "output_type": "execute_result"
    }
   ],
   "source": [
    "harshad_number_or_not(12)"
   ]
  },
  {
   "cell_type": "markdown",
   "metadata": {},
   "source": [
    "### 6.\tWrite a Python program to print all pronic numbers between 1 and 100? "
   ]
  },
  {
   "cell_type": "code",
   "execution_count": 32,
   "metadata": {},
   "outputs": [],
   "source": [
    "def pronic_numbers(num):\n",
    "    lst = []\n",
    "    for i in range(num):\n",
    "        for j in range(num):\n",
    "            if j==i*(i+1):\n",
    "                lst.append(j)\n",
    "    return(lst)\n",
    "                "
   ]
  },
  {
   "cell_type": "code",
   "execution_count": 33,
   "metadata": {},
   "outputs": [
    {
     "data": {
      "text/plain": [
       "[0, 2, 6, 12, 20, 30, 42, 56, 72, 90]"
      ]
     },
     "execution_count": 33,
     "metadata": {},
     "output_type": "execute_result"
    }
   ],
   "source": [
    "pronic_numbers(100)"
   ]
  },
  {
   "cell_type": "code",
   "execution_count": null,
   "metadata": {},
   "outputs": [],
   "source": []
  }
 ],
 "metadata": {
  "kernelspec": {
   "display_name": "Python 3",
   "language": "python",
   "name": "python3"
  },
  "language_info": {
   "codemirror_mode": {
    "name": "ipython",
    "version": 3
   },
   "file_extension": ".py",
   "mimetype": "text/x-python",
   "name": "python",
   "nbconvert_exporter": "python",
   "pygments_lexer": "ipython3",
   "version": "3.8.5"
  }
 },
 "nbformat": 4,
 "nbformat_minor": 4
}
